{
 "cells": [
  {
   "cell_type": "markdown",
   "metadata": {
    "id": "LPINvDFo9Nce"
   },
   "source": [
    "\n",
    "\n",
    "    \n",
    "#    <center> <b> <span style=\"color:orange;\" >  `Python for Scientific Computing and Software Engineering ` </span> </b></center>\n",
    "\n",
    "\n",
    "## <center> <b> <span style=\"color:orange;\"> An Initiation to Programming using Python (Init2Py) </span> </b></center>\n",
    "\n",
    "### <center> <b> <span style=\"color:blue;\"> Travaux Pratiques: Loops</span> </b></center>\n",
    "\n",
    "\n",
    "\n",
    "\n",
    "\n",
    "\n",
    "\n"
   ]
  },
  {
   "cell_type": "markdown",
   "metadata": {
    "id": "0vAKMUYl9Nc1"
   },
   "source": [
    "#### Exercice 0\n",
    ">On se propose de résoudre dans l'ensemble des entiers naturels l'inéquation $2n(n+1)<100$.\n",
    "En utilisant une boucle **While**, écris un programme qui renvoie les solutions entières de cette inéquation.\n",
    "#We propose to solve in the set of natural integers the equation 2𝑛 (𝑛 + 1) <100. Using a While Loop, write a program that returns the integer solutions of this inequality."
   ]
  },
  {
   "cell_type": "code",
   "execution_count": 1,
   "metadata": {
    "id": "tnXJLyHA9Nc4"
   },
   "outputs": [
    {
     "name": "stdout",
     "output_type": "stream",
     "text": [
      "2\n",
      "3\n",
      "4\n",
      "5\n",
      "6\n",
      "7\n",
      "8\n"
     ]
    }
   ],
   "source": [
    "n = 1\n",
    "while (((2*n)*n+1)< 100):\n",
    "    n = n+1\n",
    "    print( n )\n",
    "        \n",
    "       "
   ]
  },
  {
   "cell_type": "markdown",
   "metadata": {
    "id": "USaieP9c9Nc5"
   },
   "source": [
    "#### Exercice 1\n",
    "> En utilisant une boucle **For**, écris un programme qui calcule la somme des 30 premiers entiers naturels non nuls."
   ]
  },
  {
   "cell_type": "markdown",
   "metadata": {},
   "source": [
    "Using a For loop, write a program that calculates the sum of the first 30 non-zero natural integers."
   ]
  },
  {
   "cell_type": "code",
   "execution_count": 3,
   "metadata": {
    "id": "-a76WFyH9Nc7"
   },
   "outputs": [
    {
     "name": "stdout",
     "output_type": "stream",
     "text": [
      "465\n"
     ]
    }
   ],
   "source": [
    "sum= 1 \n",
    "for i in range (1,31):\n",
    "    sum=sum+i\n",
    "print(sum)"
   ]
  },
  {
   "cell_type": "raw",
   "metadata": {
    "id": "_070Czs09Nc8"
   },
   "source": [
    "# >Refais l'exercice 1 en utilisant une boucle **While**.\n"
   ]
  },
  {
   "cell_type": "code",
   "execution_count": 13,
   "metadata": {},
   "outputs": [
    {
     "name": "stdout",
     "output_type": "stream",
     "text": [
      "436\n"
     ]
    }
   ],
   "source": [
    "#Repeat Exercise 1 using a While loop\n",
    "sums = 1 \n",
    "i =1\n",
    "while i < 30:\n",
    "    sums=sums+i\n",
    "    i+=1\n",
    "print(sums)"
   ]
  },
  {
   "cell_type": "markdown",
   "metadata": {
    "id": "Hg1vBggc9Nc_"
   },
   "source": [
    "#### Exercice 3\n",
    ">En utilisant une boucle **For**, écris un programme qui calcule le produit des 9 premiers entiers naturels non nuls."
   ]
  },
  {
   "cell_type": "code",
   "execution_count": 4,
   "metadata": {
    "id": "h0TkyvqS9NdB"
   },
   "outputs": [
    {
     "name": "stdout",
     "output_type": "stream",
     "text": [
      "362880\n"
     ]
    }
   ],
   "source": [
    "# Using a For loop, write a program that calculates the product of the first 9 non-zero natural integers.\n",
    "product= 1 \n",
    "for i in range (1,10):\n",
    "    product\n",
    "    product =product*i\n",
    "print(product)"
   ]
  },
  {
   "cell_type": "markdown",
   "metadata": {
    "id": "a2iZm5y_9NdD"
   },
   "source": [
    "#### Exercice 4\n",
    "> Refais l'exercice 3 en utilisant une boucle **While**."
   ]
  },
  {
   "cell_type": "code",
   "execution_count": 15,
   "metadata": {},
   "outputs": [
    {
     "name": "stdout",
     "output_type": "stream",
     "text": [
      "362880\n"
     ]
    }
   ],
   "source": [
    "# Repeat Exercise 3 using a While loop.\n",
    "prod = 1 \n",
    "i =1\n",
    "while i < 10:\n",
    "    prod=prod*i\n",
    "    i+=1\n",
    "print(prod)\n"
   ]
  },
  {
   "cell_type": "markdown",
   "metadata": {
    "id": "rb3k7Bve9NdE"
   },
   "source": [
    "#### Exercice 5 \n",
    ">Écris un programme qui demande à l'utilisateur de saisir un nombre n et qui affiche tous les nombres pairs de $1$ à $n$ en utilisant la boucle **For**."
   ]
  },
  {
   "cell_type": "code",
   "execution_count": null,
   "metadata": {
    "id": "ibXs9RCB9NdF"
   },
   "outputs": [],
   "source": [
    "###### Write a program that asks the user to enter a number n and prints all even numbers from 1 to 𝑛 using the For loop.\n",
    "n=int(input(\"natural number\"))\n",
    "for i in range(1,n//2+1):\n",
    "    if (i%2==0):\n",
    "        print(i, ' even numbers',sep=\" \")"
   ]
  },
  {
   "cell_type": "code",
   "execution_count": 2,
   "metadata": {},
   "outputs": [
    {
     "name": "stdout",
     "output_type": "stream",
     "text": [
      "natural number8\n",
      "2\n",
      "4\n",
      "6\n",
      "8\n"
     ]
    }
   ],
   "source": [
    "number()"
   ]
  },
  {
   "cell_type": "markdown",
   "metadata": {
    "id": "HPC3bfyE9NdG"
   },
   "source": [
    "#### Exercice 6\n",
    ">Refais l'exercice 5 en utilisant la boucle **While**."
   ]
  },
  {
   "cell_type": "code",
   "execution_count": 7,
   "metadata": {
    "id": "dRuTyo3m9NdH"
   },
   "outputs": [],
   "source": [
    "#\n",
    "    n=int(input(\"natural number\"))\n",
    "    i=1\n",
    "    while i <=n//2:\n",
    "        print(i*2)\n",
    "        i+=1"
   ]
  },
  {
   "cell_type": "code",
   "execution_count": 8,
   "metadata": {},
   "outputs": [
    {
     "name": "stdout",
     "output_type": "stream",
     "text": [
      "natural number6\n",
      "2\n",
      "4\n",
      "6\n"
     ]
    }
   ],
   "source": [
    "num()"
   ]
  },
  {
   "cell_type": "markdown",
   "metadata": {
    "id": "6fNPIIdQ9NdH"
   },
   "source": [
    "#### Exercice 7\n",
    ">Écris un programme qui demande à l'utilisateur de saisir un nombre n et qui affiche tous les nombres impairs de 1 à n en utilisant la boucle **For**."
   ]
  },
  {
   "cell_type": "code",
   "execution_count": 28,
   "metadata": {
    "id": "LuVEv9Lc9NdI"
   },
   "outputs": [
    {
     "name": "stdout",
     "output_type": "stream",
     "text": [
      "odd natural number9\n",
      "3\n",
      "5\n",
      "7\n",
      "9\n"
     ]
    }
   ],
   "source": [
    "# Write a program that asks the user to enter a number n and displays all odd numbers from 1 to n using the For loop\n",
    "n=int(input(\"odd natural number\"))\n",
    "for i in range(1,(n + 1)//2):\n",
    "    print(2*i+1)\n"
   ]
  },
  {
   "cell_type": "markdown",
   "metadata": {
    "id": "HIlapsJ89NdK"
   },
   "source": [
    "#### Exercice 8\n",
    ">Refais l'exercice 7 en utilisant la boucle **While**.\n",
    "\n"
   ]
  },
  {
   "cell_type": "code",
   "execution_count": 30,
   "metadata": {
    "id": "Igvjeb2E9NdM"
   },
   "outputs": [
    {
     "name": "stdout",
     "output_type": "stream",
     "text": [
      "odd natural number5\n",
      "1 is the odd\n",
      "3 is the odd\n",
      "5 is the odd\n"
     ]
    }
   ],
   "source": [
    "n=int(input(\"odd natural number\"))\n",
    "i=1\n",
    "while(i<=n):\n",
    "    if(i%2!=0):\n",
    "         print(i,\"is the odd\")\n",
    "    i=i+1\n",
    "        \n",
    "   "
   ]
  },
  {
   "cell_type": "markdown",
   "metadata": {
    "id": "KOYLg_e79NdU"
   },
   "source": [
    "#### Exercice 9\n",
    ">Écris un programme qui demande à l'utilisateur de saisir un nombre n et qui affiche sa table de multiplication  en utilisant la boucle **For**."
   ]
  },
  {
   "cell_type": "code",
   "execution_count": null,
   "metadata": {
    "id": "BvOU9oLw9NdU"
   },
   "outputs": [],
   "source": [
    "# Write a program that asks the user to enter a number n and displays their multiplication table using the For loop\n",
    "n=int(input(\"natural number\"))\n",
    "for i in range(1,12):\n",
    "    print(i,\"x\",n,\"=\",n*i)\n",
    "    \n",
    "\n"
   ]
  },
  {
   "cell_type": "markdown",
   "metadata": {
    "id": "Ukzy78L09NdV"
   },
   "source": [
    "#### Exercice 10\n",
    ">Refais l'exercice 9 en utilisant la boucle **While**."
   ]
  },
  {
   "cell_type": "code",
   "execution_count": null,
   "metadata": {
    "id": "fRJ3oufC9NdV"
   },
   "outputs": [],
   "source": [
    "n=int(input(\"enter number: \"))\n",
    "i=1\n",
    "while(i<=13):\n",
    "    print(n,\"x\",i,\"=\",n*i,sep=\" \")\n",
    "    i+=1"
   ]
  },
  {
   "cell_type": "markdown",
   "metadata": {
    "id": "AQW435Hq9NdW"
   },
   "source": [
    "#### Exercice 11\n",
    ">Écris un programme qui demande à l'utilisateur d'entrer un nombre et de trouver tous ses diviseurs  en utilisant la boucle **For**."
   ]
  },
  {
   "cell_type": "code",
   "execution_count": null,
   "metadata": {
    "id": "Zjs_NfT89NdX"
   },
   "outputs": [],
   "source": [
    "# Write a program that asks the user to enter a number and find all of its divisors using the For loop.\n",
    "n=int(input(\"enter a number: \"))\n",
    "for i in range(1,13):\n",
    "    if(i%2==0):\n",
    "        print(i,\"divisor\",n,sep=\" \")"
   ]
  },
  {
   "cell_type": "markdown",
   "metadata": {
    "id": "pGp6labk9NdX"
   },
   "source": [
    "#### Exercice 12\n",
    ">Écris un programme qui demande à l'utilisateur d'entrer un entier naturel n et de trouver tous sa factorielle n!  en utilisant la boucle **For**. On rappelle que $n!=n*(n-1)*(n-2)...3*2*1$."
   ]
  },
  {
   "cell_type": "code",
   "execution_count": 5,
   "metadata": {
    "id": "iDw3TKDU9NdX"
   },
   "outputs": [
    {
     "name": "stdout",
     "output_type": "stream",
     "text": [
      "enter the number: 5\n",
      "the factorial is : 120\n"
     ]
    }
   ],
   "source": [
    "# Write a program that asks the user to enter a natural number n and find all of its factorial n! using the For loop. We recall that 𝑛! = 𝑛 ∗ (𝑛 − 1) ∗ (𝑛 − 2) ... 3 ∗ 2 ∗ 1.\n",
    "n=int(input(\"enter a number: \"))\n",
    "fact=1\n",
    "for i in range(1,(n+1)):\n",
    "    fact=fact*i\n",
    "print(\"the factorial is :\",fact)"
   ]
  },
  {
   "cell_type": "markdown",
   "metadata": {
    "id": "eyKh1oTo9NdY"
   },
   "source": [
    "#### Exercice 13\n",
    ">Écris un programme qui demande à l'utilisateur d'entrer deux entiers naturels (plus petits que 15) et de trouver leur plus petit commun multiple utilisant la boucle **For**."
   ]
  },
  {
   "cell_type": "code",
   "execution_count": 7,
   "metadata": {
    "id": "ombGnLVQ9NdY"
   },
   "outputs": [
    {
     "name": "stdout",
     "output_type": "stream",
     "text": [
      "enter  the value for n:12\n",
      "enter  the value for m:5\n",
      "the lcm:  60\n"
     ]
    }
   ],
   "source": [
    "# Write a program that asks the user to enter two whole numbers (less than 15) and find their least common multiple using the For loop.\n",
    "\n",
    "n=int(input(\"enter  the value for n:\"))\n",
    "m=int(input(\"enter  the value for m:\"))\n",
    "a=n*m\n",
    "if(n<m):\n",
    "    for i in range(m,(n*m)+1):\n",
    "        if(n%m==0):\n",
    "            print(\"the lcm:\", n)\n",
    "            break\n",
    "        elif(m%n==0):\n",
    "            print(\"the lcm:\",m)\n",
    "            break\n",
    "        elif(i%n==0 and i%m==0):\n",
    "            print(\"the lcm: \",i) \n",
    "            break\n",
    "elif(m<n):\n",
    "    for i in range(n,(n*m)+1):\n",
    "        if(n%m==0):\n",
    "            print(\"the lcm :\", n)\n",
    "            break\n",
    "        elif(m%n==0):\n",
    "            print(\"the lcm:\",m)\n",
    "            break\n",
    "        elif(i%n==0 and i%m==0):\n",
    "            print(\"the lcm: \",i) \n",
    "            break          \n",
    "            "
   ]
  },
  {
   "cell_type": "markdown",
   "metadata": {
    "id": "j4zO7-ak9NdZ"
   },
   "source": [
    "#### Exercice 14\n",
    ">Écris un programme pour afficher la série de Fibonacci jusqu'à n termes en utilisant une boucle."
   ]
  },
  {
   "cell_type": "code",
   "execution_count": 41,
   "metadata": {
    "id": "5UknLOdY9NdZ"
   },
   "outputs": [
    {
     "name": "stdout",
     "output_type": "stream",
     "text": [
      "enter the integer number :24\n",
      "the numbers of fibonacci are \n",
      " 1 \n",
      " 1 \n",
      "2\n",
      "3\n",
      "5\n",
      "8\n",
      "13\n",
      "21\n",
      "34\n",
      "55\n",
      "89\n",
      "144\n",
      "233\n",
      "377\n",
      "610\n",
      "987\n",
      "1597\n",
      "2584\n",
      "4181\n",
      "6765\n",
      "10946\n",
      "17711\n",
      "28657\n",
      "46368\n"
     ]
    }
   ],
   "source": [
    "# write a program to display the Fibonacci series up to n terms using a loop.\\\n",
    "a=1\n",
    "b=1\n",
    "n=int(input(\"enter the integer number :\"))\n",
    "if(n<=1):\n",
    "    print(\"there is not the numbers of fibonacci\")\n",
    "elif(n==2):\n",
    "    print(\"the numbers of fibonacci are 1 1 :\")\n",
    "else:\n",
    "    print(\"the numbers of fibonacci are \\n 1 \\n 1 \")\n",
    "    i=1\n",
    "    while(i<=n-2):\n",
    "        c=a+b\n",
    "        b=a\n",
    "        a=c\n",
    "        print(c)\n",
    "        i=i+1\n",
    "    "
   ]
  },
  {
   "cell_type": "markdown",
   "metadata": {
    "id": "_RBVFZdl9Nda"
   },
   "source": [
    "#### Exercice 15\n",
    ">Écris, en utilisant une boucle **For**, un programme pour afficher 5 fois de suite le message \"Python est un très bon langage de programmation\"."
   ]
  },
  {
   "cell_type": "code",
   "execution_count": 4,
   "metadata": {
    "id": "IA5dPbgd9Nda"
   },
   "outputs": [
    {
     "name": "stdout",
     "output_type": "stream",
     "text": [
      "Python is a very good programming language\n",
      "Python is a very good programming language\n",
      "Python is a very good programming language\n",
      "Python is a very good programming language\n",
      "Python is a very good programming language\n"
     ]
    }
   ],
   "source": [
    "#  Write, using a For loop, a program to display the message \"Python is a very good programming language\" 5 times in a row.\n",
    "for i in range(1,6):\n",
    "    print(\"Python is a very good programming language\")"
   ]
  },
  {
   "cell_type": "markdown",
   "metadata": {
    "id": "VUgurSg59Nda"
   },
   "source": [
    "#### Exercice 16\n",
    ">Écris, en utilisant une boucle **While**, un programme pour afficher 7 fois de suite le message \"A cette allure je finirai par tout abandonner pour la programmation\"."
   ]
  },
  {
   "cell_type": "code",
   "execution_count": 1,
   "metadata": {
    "id": "TgE99bdh9Ndb"
   },
   "outputs": [
    {
     "name": "stdout",
     "output_type": "stream",
     "text": [
      "At this rate I will end up giving up everything for programming\n",
      "At this rate I will end up giving up everything for programming\n",
      "At this rate I will end up giving up everything for programming\n",
      "At this rate I will end up giving up everything for programming\n",
      "At this rate I will end up giving up everything for programming\n",
      "At this rate I will end up giving up everything for programming\n",
      "At this rate I will end up giving up everything for programming\n"
     ]
    }
   ],
   "source": [
    "#Write, using a While Loop, a program to display the message \"At this rate I will end up giving up everything for programming\" 7 times in a row.\n",
    "i=1 \n",
    "while(i<=7):\n",
    "    print(\"At this rate I will end up giving up everything for programming\")\n",
    "    i=i+1\n"
   ]
  },
  {
   "cell_type": "markdown",
   "metadata": {
    "id": "DVgTXQRX9Ndb"
   },
   "source": [
    "#### Exercice 17\n",
    ">Écris, en utilisant une boucle **For**, un programme qui compte à l'envers de 10 à 0 puis qui affiche le message \"Partez\".\n"
   ]
  },
  {
   "cell_type": "code",
   "execution_count": 43,
   "metadata": {
    "id": "w4L4KV6C9Ndc"
   },
   "outputs": [
    {
     "name": "stdout",
     "output_type": "stream",
     "text": [
      "10\n",
      "9\n",
      "8\n",
      "7\n",
      "6\n",
      "5\n",
      "4\n",
      "3\n",
      "2\n",
      "1\n",
      "0\n"
     ]
    }
   ],
   "source": [
    "# Write, using a For loop, a program that counts backwards from 10 to 0 and then displays the message \"Go\".\n",
    "s=10\n",
    "for i in range(0,11):\n",
    "    print(s)\n",
    "    s=s-1\n"
   ]
  },
  {
   "cell_type": "markdown",
   "metadata": {
    "id": "raJAaAd29Ndc"
   },
   "source": [
    "#### Exercice 18\n",
    ">Écris, en utilisant une boucle **For**, un programme qui affiche chaque élément d'une chaine de caractère."
   ]
  },
  {
   "cell_type": "code",
   "execution_count": 8,
   "metadata": {
    "id": "wZv1gX4c9Ndd"
   },
   "outputs": [
    {
     "name": "stdout",
     "output_type": "stream",
     "text": [
      "enter sifa :jackline\n",
      "j\n",
      "a\n",
      "c\n",
      "k\n",
      "l\n",
      "i\n",
      "n\n",
      "e\n"
     ]
    }
   ],
   "source": [
    "# Write, using a For loop, a program that displays each element of a string.\n",
    "sifa=str(input(\"enter sifa :\"))\n",
    "for a in sifa:\n",
    "    print(a)"
   ]
  },
  {
   "cell_type": "markdown",
   "metadata": {
    "id": "095_Dtoc9Ndf"
   },
   "source": [
    "#### Exercice 19\n",
    ">Écris, en utilisant une boucle **For**, un programme qui compte à l'envers de 10 à 0 puis qui affiche le message \"Partez\"."
   ]
  },
  {
   "cell_type": "code",
   "execution_count": 3,
   "metadata": {
    "id": "MOV4pZzn9Ndg"
   },
   "outputs": [
    {
     "name": "stdout",
     "output_type": "stream",
     "text": [
      "10\n",
      "9\n",
      "8\n",
      "7\n",
      "6\n",
      "5\n",
      "4\n",
      "3\n",
      "2\n",
      "1\n",
      "0\n"
     ]
    }
   ],
   "source": [
    "Write, using a For loop, a program that counts backwards from 10 to 0 and then displays the message \"Go\".\n",
    "s=10\n",
    "for i in range(0,11):\n",
    "    print(s)\n",
    "    s=s-1\n"
   ]
  },
  {
   "cell_type": "markdown",
   "metadata": {
    "id": "5sUU7dgJ9Ndh"
   },
   "source": [
    "<center> <b> <span style=\"color:orange;\"> 🎉 FÉLICITATIONS ! / CONGRATULATIONS! 🎉 </span> </b></center>"
   ]
  }
 ],
 "metadata": {
  "colab": {
   "name": "Exercices_03_Boucles.ipynb",
   "provenance": []
  },
  "kernelspec": {
   "display_name": "Python 3",
   "language": "python",
   "name": "python3"
  },
  "language_info": {
   "codemirror_mode": {
    "name": "ipython",
    "version": 3
   },
   "file_extension": ".py",
   "mimetype": "text/x-python",
   "name": "python",
   "nbconvert_exporter": "python",
   "pygments_lexer": "ipython3",
   "version": "3.7.3"
  }
 },
 "nbformat": 4,
 "nbformat_minor": 1
}
